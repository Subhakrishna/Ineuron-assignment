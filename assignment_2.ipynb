{
  "nbformat": 4,
  "nbformat_minor": 0,
  "metadata": {
    "colab": {
      "name": "assignment_2.ipynb",
      "provenance": []
    },
    "kernelspec": {
      "name": "python3",
      "display_name": "Python 3"
    }
  },
  "cells": [
    {
      "cell_type": "markdown",
      "metadata": {
        "id": "yCoJAF6XsFcz",
        "colab_type": "text"
      },
      "source": [
        "1. Create the below pattern using nested for loop in Python."
      ]
    },
    {
      "cell_type": "code",
      "metadata": {
        "id": "2h3utl0ksGbs",
        "colab_type": "code",
        "colab": {
          "base_uri": "https://localhost:8080/",
          "height": 487
        },
        "outputId": "34d02d5b-4032-4914-c72e-0db7868c6787"
      },
      "source": [
        "rows=7\n",
        "cols=7\n",
        "for i in range (0, rows):\n",
        "  print('\\n')\n",
        "  for j in range(0, i + 1):\n",
        "    print(\"*\", end=' ')\n",
        "for i in range(0,rows):\n",
        "   print('\\n')\n",
        "   for j in range(0,cols):\n",
        "     if(i<=j and j>i):\n",
        "      print('*', end=' ')\n"
      ],
      "execution_count": 14,
      "outputs": [
        {
          "output_type": "stream",
          "text": [
            "\n",
            "\n",
            "* \n",
            "\n",
            "* * \n",
            "\n",
            "* * * \n",
            "\n",
            "* * * * \n",
            "\n",
            "* * * * * \n",
            "\n",
            "* * * * * * \n",
            "\n",
            "* * * * * * * \n",
            "\n",
            "* * * * * * \n",
            "\n",
            "* * * * * \n",
            "\n",
            "* * * * \n",
            "\n",
            "* * * \n",
            "\n",
            "* * \n",
            "\n",
            "* \n",
            "\n"
          ],
          "name": "stdout"
        }
      ]
    },
    {
      "cell_type": "markdown",
      "metadata": {
        "id": "NelD9SdgsUb0",
        "colab_type": "text"
      },
      "source": [
        "2. Write a Python program to reverse a word after accepting the input from the user."
      ]
    },
    {
      "cell_type": "code",
      "metadata": {
        "id": "1vzxkpDZsYxt",
        "colab_type": "code",
        "colab": {
          "base_uri": "https://localhost:8080/",
          "height": 50
        },
        "outputId": "b4c6ca0b-ee2f-46fa-a8cb-10ec3ce8043f"
      },
      "source": [
        "name = input(\"Input any Name : \")\n",
        "\n",
        "print (name[::-1])"
      ],
      "execution_count": 33,
      "outputs": [
        {
          "output_type": "stream",
          "text": [
            "Input any Name : ineuron\n",
            "norueni\n"
          ],
          "name": "stdout"
        }
      ]
    },
    {
      "cell_type": "markdown",
      "metadata": {
        "id": "VMcy0vzmvJdD",
        "colab_type": "text"
      },
      "source": [
        "**OR**"
      ]
    },
    {
      "cell_type": "code",
      "metadata": {
        "id": "48pxM2Khsq90",
        "colab_type": "code",
        "colab": {
          "base_uri": "https://localhost:8080/",
          "height": 50
        },
        "outputId": "59d5d064-8a2a-433b-d1e9-e29c3cd8529c"
      },
      "source": [
        "name = input(\"Input any Name : \") \n",
        "str = \"\" \n",
        "for i in name: \n",
        " str = i + str\n",
        "print(str)  \n",
        "  "
      ],
      "execution_count": 34,
      "outputs": [
        {
          "output_type": "stream",
          "text": [
            "Input any Name : ineuron\n",
            "norueni\n"
          ],
          "name": "stdout"
        }
      ]
    },
    {
      "cell_type": "code",
      "metadata": {
        "id": "ABmqL2-OuP5O",
        "colab_type": "code",
        "colab": {}
      },
      "source": [
        ""
      ],
      "execution_count": 0,
      "outputs": []
    }
  ]
}