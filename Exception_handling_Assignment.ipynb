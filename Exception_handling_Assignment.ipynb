{
  "nbformat": 4,
  "nbformat_minor": 0,
  "metadata": {
    "colab": {
      "name": "Exception handling Assignment.ipynb",
      "provenance": []
    },
    "kernelspec": {
      "name": "python3",
      "display_name": "Python 3"
    }
  },
  "cells": [
    {
      "cell_type": "markdown",
      "metadata": {
        "id": "zJYtmoQIzLQA",
        "colab_type": "text"
      },
      "source": [
        "1. Write a function to compute 5/0 and use try/except to catch the exceptions."
      ]
    },
    {
      "cell_type": "code",
      "metadata": {
        "id": "ZCayYOIhzGQA",
        "colab_type": "code",
        "colab": {}
      },
      "source": [
        "def div_by_zero():\n",
        "  return 5/0"
      ],
      "execution_count": 0,
      "outputs": []
    },
    {
      "cell_type": "code",
      "metadata": {
        "id": "QGuy3N7MwwAB",
        "colab_type": "code",
        "colab": {
          "base_uri": "https://localhost:8080/",
          "height": 34
        },
        "outputId": "c624213d-73b7-49de-c5fb-e0ad08ffa807"
      },
      "source": [
        "try:\n",
        "  div_by_zero()\n",
        "except Exception as e :\n",
        "  print('Exception is ',e)"
      ],
      "execution_count": 173,
      "outputs": [
        {
          "output_type": "stream",
          "text": [
            "Exception is  division by zero\n"
          ],
          "name": "stdout"
        }
      ]
    },
    {
      "cell_type": "markdown",
      "metadata": {
        "id": "p_mjWTXgzOFv",
        "colab_type": "text"
      },
      "source": [
        "2. Implement a Python program to generate all sentences where subject is in\n",
        "[\"Americans\", \"Indians\"] and verb is in [\"Play\", \"watch\"] and the object is in\n",
        "[\"Baseball\",\"cricket\"].\n",
        "Hint: Subject,Verb and Object should be declared in the program as shown below.\n",
        "subjects=[\"Americans \",\"Indians\"]\n",
        "verbs=[\"play\",\"watch\"]\n",
        "objects=[\"Baseball\",\"Cricket\"]"
      ]
    },
    {
      "cell_type": "code",
      "metadata": {
        "id": "oQUWJa4LwwCx",
        "colab_type": "code",
        "colab": {}
      },
      "source": [
        "subjects=[\"Americans \",\"Indians\"]\n",
        "verbs=[\"play\",\"watch\"]\n",
        "objects=[\"Baseball\",\"Cricket\"]"
      ],
      "execution_count": 0,
      "outputs": []
    },
    {
      "cell_type": "code",
      "metadata": {
        "id": "r4FJp1z8wwFF",
        "colab_type": "code",
        "colab": {
          "base_uri": "https://localhost:8080/",
          "height": 151
        },
        "outputId": "18b43f21-b9fc-4063-b0eb-b29a1142eefd"
      },
      "source": [
        "for a in subjects:\n",
        "  for b in verbs:\n",
        "    for c in objects:\n",
        "      print(a+\" \"+b+\" \"+c)\n",
        "      "
      ],
      "execution_count": 183,
      "outputs": [
        {
          "output_type": "stream",
          "text": [
            "Americans  play Baseball\n",
            "Americans  play Cricket\n",
            "Americans  watch Baseball\n",
            "Americans  watch Cricket\n",
            "Indians play Baseball\n",
            "Indians play Cricket\n",
            "Indians watch Baseball\n",
            "Indians watch Cricket\n"
          ],
          "name": "stdout"
        }
      ]
    },
    {
      "cell_type": "code",
      "metadata": {
        "id": "0wgdaovnwwHw",
        "colab_type": "code",
        "colab": {}
      },
      "source": [
        ""
      ],
      "execution_count": 0,
      "outputs": []
    },
    {
      "cell_type": "code",
      "metadata": {
        "id": "ne7TCA1DwwJu",
        "colab_type": "code",
        "colab": {}
      },
      "source": [
        ""
      ],
      "execution_count": 0,
      "outputs": []
    },
    {
      "cell_type": "code",
      "metadata": {
        "id": "pqG5JfRawwNF",
        "colab_type": "code",
        "colab": {}
      },
      "source": [
        ""
      ],
      "execution_count": 0,
      "outputs": []
    }
  ]
}