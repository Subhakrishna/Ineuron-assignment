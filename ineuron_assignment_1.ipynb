{
  "nbformat": 4,
  "nbformat_minor": 0,
  "metadata": {
    "colab": {
      "name": "ineuron_assignment 1.ipynb",
      "provenance": []
    },
    "kernelspec": {
      "name": "python3",
      "display_name": "Python 3"
    }
  },
  "cells": [
    {
      "cell_type": "markdown",
      "metadata": {
        "id": "nZJHOqS6bh25",
        "colab_type": "text"
      },
      "source": [
        "## **Assignment 1**\n"
      ]
    },
    {
      "cell_type": "markdown",
      "metadata": {
        "id": "JtTOUoN5etgB",
        "colab_type": "text"
      },
      "source": [
        "1.Write a program which will find all such numbers which are divisible by 7 but are not a multiple of 5, between 2000 and 3200 (both included). The numbers obtained should be printed in a comma-separated sequence on a single line.\n"
      ]
    },
    {
      "cell_type": "code",
      "metadata": {
        "id": "2dU8Y73Zb-xf",
        "colab_type": "code",
        "colab": {
          "base_uri": "https://localhost:8080/",
          "height": 54
        },
        "outputId": "cd3490d2-cbda-4eeb-e7e7-0d79d4fab353"
      },
      "source": [
        "numbers=[]\n",
        "for x in range(2000, 3201):\n",
        "    if(x%7==0) and not(x%5==0):\n",
        "        numbers.append(str(x))\n",
        "print (','.join(numbers))"
      ],
      "execution_count": 3,
      "outputs": [
        {
          "output_type": "stream",
          "text": [
            "2002,2009,2016,2023,2037,2044,2051,2058,2072,2079,2086,2093,2107,2114,2121,2128,2142,2149,2156,2163,2177,2184,2191,2198,2212,2219,2226,2233,2247,2254,2261,2268,2282,2289,2296,2303,2317,2324,2331,2338,2352,2359,2366,2373,2387,2394,2401,2408,2422,2429,2436,2443,2457,2464,2471,2478,2492,2499,2506,2513,2527,2534,2541,2548,2562,2569,2576,2583,2597,2604,2611,2618,2632,2639,2646,2653,2667,2674,2681,2688,2702,2709,2716,2723,2737,2744,2751,2758,2772,2779,2786,2793,2807,2814,2821,2828,2842,2849,2856,2863,2877,2884,2891,2898,2912,2919,2926,2933,2947,2954,2961,2968,2982,2989,2996,3003,3017,3024,3031,3038,3052,3059,3066,3073,3087,3094,3101,3108,3122,3129,3136,3143,3157,3164,3171,3178,3192,3199\n"
          ],
          "name": "stdout"
        }
      ]
    },
    {
      "cell_type": "markdown",
      "metadata": {
        "id": "T2kuHkCWcufE",
        "colab_type": "text"
      },
      "source": [
        "2. Write a Python program to accept the user's first and last name and then getting them printed in the the reverse order with a space between first name and last name.\n"
      ]
    },
    {
      "cell_type": "code",
      "metadata": {
        "id": "KF4QJctlbuPi",
        "colab_type": "code",
        "colab": {
          "base_uri": "https://localhost:8080/",
          "height": 67
        },
        "outputId": "97578cff-944c-41b1-c998-e5ce889635ab"
      },
      "source": [
        "firstname = input(\"Input your First Name : \")\n",
        "lastname = input(\"Input your Last Name : \")\n",
        "print (lastname + \" \" + firstname)"
      ],
      "execution_count": 4,
      "outputs": [
        {
          "output_type": "stream",
          "text": [
            "Input your First Name : subha\n",
            "Input your Last Name : krishna\n",
            "Hello  krishna subha\n"
          ],
          "name": "stdout"
        }
      ]
    },
    {
      "cell_type": "markdown",
      "metadata": {
        "id": "OfoK4QtKdb-K",
        "colab_type": "text"
      },
      "source": [
        " **OR**"
      ]
    },
    {
      "cell_type": "code",
      "metadata": {
        "id": "FEj3hbW-dn7l",
        "colab_type": "code",
        "colab": {
          "base_uri": "https://localhost:8080/",
          "height": 67
        },
        "outputId": "356e0e88-f56b-4c3f-d14e-a87d83260f15"
      },
      "source": [
        "firstname = input(\"Input your First Name : \")\n",
        "lastname = input(\"Input your Last Name : \")\n",
        "print (lastname[::-1] + \" \" + firstname[::-1])"
      ],
      "execution_count": 7,
      "outputs": [
        {
          "output_type": "stream",
          "text": [
            "Input your First Name : SUBHA\n",
            "Input your Last Name : KRISHNA\n",
            "ANHSIRK AHBUS\n"
          ],
          "name": "stdout"
        }
      ]
    },
    {
      "cell_type": "markdown",
      "metadata": {
        "id": "jZ-mh_nQd7gW",
        "colab_type": "text"
      },
      "source": [
        "3. Write a Python program to find the volume of a sphere with diameter 12 cm. Formula: V=4/3 * π * r 3"
      ]
    },
    {
      "cell_type": "code",
      "metadata": {
        "id": "sXfoIzo2d6ht",
        "colab_type": "code",
        "colab": {
          "base_uri": "https://localhost:8080/",
          "height": 50
        },
        "outputId": "17b6a584-c327-4ede-94f2-d27825f1021a"
      },
      "source": [
        "pi = 3.14\n",
        "r= float(input(\"Enter the radius : \"))\n",
        "V= 4.0/3.0*pi* r**3\n",
        "print('The volume of the sphere is: ',V)"
      ],
      "execution_count": 8,
      "outputs": [
        {
          "output_type": "stream",
          "text": [
            "Enter the radius : 4\n",
            "The volume of the sphere is:  267.94666666666666\n"
          ],
          "name": "stdout"
        }
      ]
    }
  ]
}